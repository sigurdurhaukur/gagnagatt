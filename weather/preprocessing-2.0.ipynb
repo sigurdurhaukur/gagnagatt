{
 "cells": [
  {
   "cell_type": "code",
   "execution_count": 1,
   "metadata": {},
   "outputs": [
    {
     "name": "stdout",
     "output_type": "stream",
     "text": [
      "Requirement already satisfied: camelot in /Library/Frameworks/Python.framework/Versions/3.9/lib/python3.9/site-packages (12.6.29)\n",
      "Requirement already satisfied: SQLAlchemy<0.8.0,>=0.7.7 in /Library/Frameworks/Python.framework/Versions/3.9/lib/python3.9/site-packages (from camelot) (0.7.10)\n",
      "Requirement already satisfied: Elixir>=0.7.1 in /Library/Frameworks/Python.framework/Versions/3.9/lib/python3.9/site-packages (from camelot) (0.7.1)\n",
      "Requirement already satisfied: sqlalchemy-migrate>=0.7.1 in /Library/Frameworks/Python.framework/Versions/3.9/lib/python3.9/site-packages (from camelot) (0.11.0)\n",
      "Requirement already satisfied: Jinja2>=2.5.5 in /Library/Frameworks/Python.framework/Versions/3.9/lib/python3.9/site-packages (from camelot) (3.0.1)\n",
      "Requirement already satisfied: chardet>=1.0.1 in /Library/Frameworks/Python.framework/Versions/3.9/lib/python3.9/site-packages (from camelot) (4.0.0)\n",
      "Requirement already satisfied: xlwt==0.7.2 in /Library/Frameworks/Python.framework/Versions/3.9/lib/python3.9/site-packages (from camelot) (0.7.2)\n",
      "Requirement already satisfied: xlrd==0.7.1 in /Library/Frameworks/Python.framework/Versions/3.9/lib/python3.9/site-packages (from camelot) (0.7.1)\n",
      "Requirement already satisfied: MarkupSafe>=2.0 in /Library/Frameworks/Python.framework/Versions/3.9/lib/python3.9/site-packages (from Jinja2>=2.5.5->camelot) (2.0.1)\n",
      "Requirement already satisfied: pbr>=1.8 in /Library/Frameworks/Python.framework/Versions/3.9/lib/python3.9/site-packages (from sqlalchemy-migrate>=0.7.1->camelot) (5.11.1)\n",
      "Requirement already satisfied: decorator in /Users/haukurbirgisson/Library/Python/3.9/lib/python/site-packages (from sqlalchemy-migrate>=0.7.1->camelot) (5.1.1)\n",
      "Requirement already satisfied: six>=1.7.0 in /Users/haukurbirgisson/Library/Python/3.9/lib/python/site-packages (from sqlalchemy-migrate>=0.7.1->camelot) (1.16.0)\n",
      "Requirement already satisfied: sqlparse in /Library/Frameworks/Python.framework/Versions/3.9/lib/python3.9/site-packages (from sqlalchemy-migrate>=0.7.1->camelot) (0.4.4)\n",
      "Requirement already satisfied: Tempita>=0.4 in /Library/Frameworks/Python.framework/Versions/3.9/lib/python3.9/site-packages (from sqlalchemy-migrate>=0.7.1->camelot) (0.5.2)\n"
     ]
    }
   ],
   "source": [
    "!pip install camelot\n"
   ]
  },
  {
   "cell_type": "code",
   "execution_count": 2,
   "metadata": {},
   "outputs": [
    {
     "ename": "ModuleNotFoundError",
     "evalue": "No module named 'camelot'",
     "output_type": "error",
     "traceback": [
      "\u001b[0;31m---------------------------------------------------------------------------\u001b[0m",
      "\u001b[0;31mModuleNotFoundError\u001b[0m                       Traceback (most recent call last)",
      "Cell \u001b[0;32mIn[2], line 1\u001b[0m\n\u001b[0;32m----> 1\u001b[0m \u001b[39mimport\u001b[39;00m \u001b[39mcamelot\u001b[39;00m\n\u001b[1;32m      2\u001b[0m \u001b[39m# Specify the path to your PDF file\u001b[39;00m\n\u001b[1;32m      3\u001b[0m file_path \u001b[39m=\u001b[39m \u001b[39m'\u001b[39m\u001b[39mreykjavik-1-2019.pdf\u001b[39m\u001b[39m'\u001b[39m\n",
      "\u001b[0;31mModuleNotFoundError\u001b[0m: No module named 'camelot'"
     ]
    }
   ],
   "source": [
    "import camelot\n",
    "# Specify the path to your PDF file\n",
    "file_path = 'reykjavik-1-2019.pdf'\n",
    "\n",
    "# Read the table from the PDF\n",
    "tables = camelot.read_pdf(file_path, pages='all')\n",
    "\n",
    "# Iterate through the extracted tables\n",
    "for table in tables:\n",
    "    df = table.df\n",
    "    print(df)\n"
   ]
  }
 ],
 "metadata": {
  "kernelspec": {
   "display_name": "Python 3",
   "language": "python",
   "name": "python3"
  },
  "language_info": {
   "codemirror_mode": {
    "name": "ipython",
    "version": 3
   },
   "file_extension": ".py",
   "mimetype": "text/x-python",
   "name": "python",
   "nbconvert_exporter": "python",
   "pygments_lexer": "ipython3",
   "version": "3.9.6"
  },
  "orig_nbformat": 4
 },
 "nbformat": 4,
 "nbformat_minor": 2
}
